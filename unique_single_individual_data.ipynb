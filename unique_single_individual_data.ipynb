{
  "cells": [
    {
      "cell_type": "code",
      "execution_count": 2,
      "metadata": {},
      "outputs": [],
      "source": [
        "import pandas as pd"
      ]
    },
    {
      "cell_type": "code",
      "execution_count": 4,
      "metadata": {
        "id": "gVMoNFDxo_yX"
      },
      "outputs": [],
      "source": [
        "df = pd.read_csv('data/purchasers.csv')\n",
        "\n",
        "# Extract unique purchases based on the 'purchaser_name' column\n",
        "unique_purchases = df.drop_duplicates(subset='purchaser_name')\n",
        "\n",
        "# Save the unique purchases to a new CSV file\n",
        "unique_purchases.to_csv('data/unique_purchases.csv', index=False)\n"
      ]
    },
    {
      "cell_type": "code",
      "execution_count": 5,
      "metadata": {
        "colab": {
          "base_uri": "https://localhost:8080/",
          "height": 224
        },
        "id": "OkgQF06BjS7N",
        "outputId": "be0a4e8f-eb50-4dc0-c96a-19c4f43fd48a"
      },
      "outputs": [
        {
          "data": {
            "text/html": [
              "<div>\n",
              "<style scoped>\n",
              "    .dataframe tbody tr th:only-of-type {\n",
              "        vertical-align: middle;\n",
              "    }\n",
              "\n",
              "    .dataframe tbody tr th {\n",
              "        vertical-align: top;\n",
              "    }\n",
              "\n",
              "    .dataframe thead th {\n",
              "        text-align: right;\n",
              "    }\n",
              "</style>\n",
              "<table border=\"1\" class=\"dataframe\">\n",
              "  <thead>\n",
              "    <tr style=\"text-align: right;\">\n",
              "      <th></th>\n",
              "      <th>date_of_purchase</th>\n",
              "      <th>purchaser_name</th>\n",
              "      <th>denomination</th>\n",
              "    </tr>\n",
              "  </thead>\n",
              "  <tbody>\n",
              "    <tr>\n",
              "      <th>0</th>\n",
              "      <td>2019-04-12</td>\n",
              "      <td>A B C INDIA LIMITED</td>\n",
              "      <td>100000</td>\n",
              "    </tr>\n",
              "    <tr>\n",
              "      <th>1</th>\n",
              "      <td>2019-04-12</td>\n",
              "      <td>A B C INDIA LIMITED</td>\n",
              "      <td>100000</td>\n",
              "    </tr>\n",
              "    <tr>\n",
              "      <th>2</th>\n",
              "      <td>2019-04-12</td>\n",
              "      <td>A B C INDIA LIMITED</td>\n",
              "      <td>1000000</td>\n",
              "    </tr>\n",
              "    <tr>\n",
              "      <th>3</th>\n",
              "      <td>2019-04-12</td>\n",
              "      <td>A B C INDIA LIMITED</td>\n",
              "      <td>1000000</td>\n",
              "    </tr>\n",
              "    <tr>\n",
              "      <th>4</th>\n",
              "      <td>2019-04-12</td>\n",
              "      <td>A B C INDIA LIMITED</td>\n",
              "      <td>100000</td>\n",
              "    </tr>\n",
              "  </tbody>\n",
              "</table>\n",
              "</div>"
            ],
            "text/plain": [
              "  date_of_purchase       purchaser_name  denomination\n",
              "0       2019-04-12  A B C INDIA LIMITED        100000\n",
              "1       2019-04-12  A B C INDIA LIMITED        100000\n",
              "2       2019-04-12  A B C INDIA LIMITED       1000000\n",
              "3       2019-04-12  A B C INDIA LIMITED       1000000\n",
              "4       2019-04-12  A B C INDIA LIMITED        100000"
            ]
          },
          "execution_count": 5,
          "metadata": {},
          "output_type": "execute_result"
        }
      ],
      "source": [
        "df.head()"
      ]
    },
    {
      "cell_type": "code",
      "execution_count": 6,
      "metadata": {
        "id": "pu9xfZW1jQA_"
      },
      "outputs": [],
      "source": [
        "# Function to remove rows containing a specific phrase in a specified column\n",
        "def remove_rows_with_phrase(dataframe, column_name, phrase):\n",
        "    return dataframe[~dataframe[column_name].str.contains(phrase, case=False, na=False)]\n",
        "\n"
      ]
    },
    {
      "cell_type": "code",
      "execution_count": 7,
      "metadata": {
        "id": "ycsaojdhjRAj"
      },
      "outputs": [],
      "source": [
        "# Example usage\n",
        "phrase_to_remove = 'OVERSEAS'\n",
        "column_to_check = 'purchaser_name'\n"
      ]
    },
    {
      "cell_type": "code",
      "execution_count": 8,
      "metadata": {
        "colab": {
          "base_uri": "https://localhost:8080/"
        },
        "id": "ai5VYDNMjR6V",
        "outputId": "c34319ce-f4e7-4f20-f741-491ea626c472"
      },
      "outputs": [
        {
          "name": "stdout",
          "output_type": "stream",
          "text": [
            "      date_of_purchase                  purchaser_name  denomination\n",
            "0           2019-04-12             A B C INDIA LIMITED        100000\n",
            "1           2019-04-12             A B C INDIA LIMITED        100000\n",
            "2           2019-04-12             A B C INDIA LIMITED       1000000\n",
            "3           2019-04-12             A B C INDIA LIMITED       1000000\n",
            "4           2019-04-12             A B C INDIA LIMITED        100000\n",
            "...                ...                             ...           ...\n",
            "18866       2024-01-11  WESTWELL GASES PRIVATE LIMITED      10000000\n",
            "18867       2024-01-11  WESTWELL GASES PRIVATE LIMITED      10000000\n",
            "18868       2024-01-11  WESTWELL GASES PRIVATE LIMITED      10000000\n",
            "18869       2024-01-11  WESTWELL GASES PRIVATE LIMITED      10000000\n",
            "18870       2024-01-11  WESTWELL GASES PRIVATE LIMITED      10000000\n",
            "\n",
            "[18855 rows x 3 columns]\n",
            "18855\n"
          ]
        }
      ],
      "source": [
        "df_cleaned = remove_rows_with_phrase(df, column_to_check, phrase_to_remove)\n",
        "df = df_cleaned\n",
        "# Display the cleaned DataFrame\n",
        "print(df_cleaned)\n",
        "print(len(df_cleaned))"
      ]
    },
    {
      "cell_type": "code",
      "execution_count": 9,
      "metadata": {
        "id": "7BMLKOGRjZ9O"
      },
      "outputs": [],
      "source": [
        "df_cleaned.to_csv('data/unique_single_person_bond_purchase.csv', index=False)"
      ]
    },
    {
      "cell_type": "code",
      "execution_count": null,
      "metadata": {},
      "outputs": [],
      "source": []
    }
  ],
  "metadata": {
    "colab": {
      "provenance": []
    },
    "kernelspec": {
      "display_name": "Python 3",
      "name": "python3"
    },
    "language_info": {
      "codemirror_mode": {
        "name": "ipython",
        "version": 3
      },
      "file_extension": ".py",
      "mimetype": "text/x-python",
      "name": "python",
      "nbconvert_exporter": "python",
      "pygments_lexer": "ipython3",
      "version": "3.12.3"
    }
  },
  "nbformat": 4,
  "nbformat_minor": 0
}
